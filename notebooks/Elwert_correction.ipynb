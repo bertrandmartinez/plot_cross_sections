{
 "cells": [
  {
   "cell_type": "code",
   "execution_count": 1,
   "id": "5f069577-92e4-4355-81de-240828b24dc4",
   "metadata": {},
   "outputs": [],
   "source": [
    "# Imports from python packages\n",
    "import sys\n",
    "import numpy as np\n",
    "import matplotlib.pyplot as plt\n",
    "\n",
    "# Imports from my packages (see the folder called utils)\n",
    "sys.path.append('../utils/')\n",
    "from bremsstrahlung import nr_dif_cs_sp, factor_Elwert\n",
    "from screening import Fermi_length\n",
    "from SeltzerBerger import read_data\n",
    "\n",
    "# Style of the plot\n",
    "plt.style.use('../utils/minimal.style')"
   ]
  },
  {
   "cell_type": "code",
   "execution_count": 2,
   "id": "55b458a8-b22e-4472-880a-060403d76cc5",
   "metadata": {},
   "outputs": [
    {
     "ename": "NameError",
     "evalue": "name 'Fermi_length' is not defined",
     "output_type": "error",
     "traceback": [
      "\u001b[1;31m---------------------------------------------------------------------------\u001b[0m",
      "\u001b[1;31mNameError\u001b[0m                                 Traceback (most recent call last)",
      "Cell \u001b[1;32mIn[2], line 5\u001b[0m\n\u001b[0;32m      3\u001b[0m T1 \u001b[38;5;241m=\u001b[39m \u001b[38;5;241m100.\u001b[39m \u001b[38;5;66;03m# 100 keV\u001b[39;00m\n\u001b[0;32m      4\u001b[0m g1 \u001b[38;5;241m=\u001b[39m \u001b[38;5;241m1.\u001b[39m \u001b[38;5;241m+\u001b[39m T1 \u001b[38;5;241m/\u001b[39m \u001b[38;5;241m511.\u001b[39m\n\u001b[1;32m----> 5\u001b[0m Lf \u001b[38;5;241m=\u001b[39m \u001b[43mFermi_length\u001b[49m(Z)\n",
      "\u001b[1;31mNameError\u001b[0m: name 'Fermi_length' is not defined"
     ]
    }
   ],
   "source": [
    "# Physical parameters\n",
    "Z = 29\n",
    "T1 = 100. # 100 keV\n",
    "g1 = 1. + T1 / 511.\n",
    "Lf = Fermi_length(Z)"
   ]
  },
  {
   "cell_type": "code",
   "execution_count": null,
   "id": "1867ec88-ce26-4c1f-9b37-0a14fafe7cc7",
   "metadata": {},
   "outputs": [],
   "source": [
    "# discretization of k axis\n",
    "Nk = 100\n",
    "axis_k  = np.linspace(0., g1-1., Nk)"
   ]
  },
  {
   "cell_type": "code",
   "execution_count": null,
   "id": "ca9a0a63-dac2-4468-b861-f9e791899e8f",
   "metadata": {},
   "outputs": [],
   "source": [
    "# Elwert factor\n",
    "elwert = np.array([ factor_Elwert(Z, k, g1) for k in axis_k ])"
   ]
  },
  {
   "cell_type": "code",
   "execution_count": null,
   "id": "121746c9-f1a5-4cfe-b994-1445c0e9b1e5",
   "metadata": {},
   "outputs": [],
   "source": [
    "# Non-relativistic cross-section with Elwert correction\n",
    "cs_screen_elwert_on = np.array([ nr_dif_cs_sp(Z, k, g1, Lf, elwert=True) for k in axis_k ])\n",
    "cs_screen_elwert_on = axis_k * cs_screen_elwert_on"
   ]
  },
  {
   "cell_type": "code",
   "execution_count": null,
   "id": "1388d87b-67a5-4bbc-94d3-9892a3753080",
   "metadata": {},
   "outputs": [],
   "source": [
    "# Non-relativistic cross-section without Elwert correction\n",
    "cs_screen_elwert_no = np.array([ nr_dif_cs_sp(Z, k, g1, Lf, elwert=False) for k in axis_k ])\n",
    "cs_screen_elwert_no = axis_k * cs_screen_elwert_no"
   ]
  },
  {
   "cell_type": "code",
   "execution_count": null,
   "id": "dc06b1c8-72de-4d9e-9fc3-7da20330433e",
   "metadata": {},
   "outputs": [],
   "source": [
    "# Data from Seltzer and Berger\n",
    "cs_absx, cs_seltzer = read_data(Z)"
   ]
  },
  {
   "cell_type": "code",
   "execution_count": null,
   "id": "34a428c5-ba05-4b99-b976-4644a74aba26",
   "metadata": {},
   "outputs": [],
   "source": [
    "# Figure with non-relativistic cross-section with and without the Elwert correction\n",
    "\n",
    "fig, axs = plt.subplots(1, 1, figsize=(6,4))\n",
    "axs.plot(cs_absx,cs_seltzer[6], c='r', label=r\"$\\sigma_{SB}$\")\n",
    "axs.plot(axis_k[1:-1] / (g1 - 1.), cs_screen_elwert_on[1:-1], c='k', label=r\"$\\sigma_{TF} \\, \\rm with \\, \\rm Elwert$\")\n",
    "axs.plot(axis_k[1:-1] / (g1 - 1.), cs_screen_elwert_no[1:-1], c='k', ls='--', label=r\"$\\sigma_{TF} \\, \\rm without \\, \\rm Elwert$\")\n",
    "\n",
    "# x axis\n",
    "axs.set_xlabel(r\"$ k / (\\gamma_1 - 1) $\")\n",
    "axs.set_xlim([0.,1.])\n",
    "\n",
    "# y axis\n",
    "axs.set_ylabel(r\"$ k d \\sigma / dk \\, \\rm (m^2)$\")\n",
    "axs.set_ylim([0.,8.e-27])\n",
    "location = np.linspace(0., 8.e-27, 9)\n",
    "axs.yaxis.set_ticks(location)\n",
    "axs.yaxis.set_ticklabels([r'${0:.{1}f}$'.format(1.e27*elem, 0) for elem in location])\n",
    "axs.text(0.08, 1.1, r'$ \\times 10^{-27} $', ha='center', va='center', transform=axs.transAxes, bbox=dict(alpha=0, facecolor=\"white\", edgecolor=\"white\") )\n",
    "\n",
    "# legend\n",
    "axs.legend(loc=\"best\")\n",
    "plt.tight_layout()\n",
    "# save the figure\n",
    "fig.savefig(\"../figures/Elwert_correction\", bbox_inches='tight')\n",
    "\n",
    "plt.show()"
   ]
  },
  {
   "cell_type": "code",
   "execution_count": null,
   "id": "b679234d-21ee-4b8c-ae95-d072f9d079f8",
   "metadata": {},
   "outputs": [],
   "source": []
  }
 ],
 "metadata": {
  "kernelspec": {
   "display_name": "Python 3 (ipykernel)",
   "language": "python",
   "name": "python3"
  },
  "language_info": {
   "codemirror_mode": {
    "name": "ipython",
    "version": 3
   },
   "file_extension": ".py",
   "mimetype": "text/x-python",
   "name": "python",
   "nbconvert_exporter": "python",
   "pygments_lexer": "ipython3",
   "version": "3.10.6"
  }
 },
 "nbformat": 4,
 "nbformat_minor": 5
}
